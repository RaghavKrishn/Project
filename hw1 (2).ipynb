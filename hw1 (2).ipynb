{
 "cells": [
  {
   "cell_type": "markdown",
   "id": "f2d5be44-3708-4405-b93d-9de77bd5fbda",
   "metadata": {},
   "source": [
    "---\n",
    "<h1 style=\"text-align: center;\">\n",
    "CSCI 4521: Applied Machine Learning (Fall 2024)\n",
    "</h1>\n",
    "\n",
    "<h1 style=\"text-align: center;\">\n",
    "Homework 1\n",
    "</h1>\n",
    "\n",
    "<h3 style=\"text-align: center;\">\n",
    "(Due Thu, Sept. 19, 11:59 PM CT)\n",
    "</h3>\n",
    "\n",
    "---"
   ]
  },
  {
   "cell_type": "markdown",
   "id": "8d5be1aa-5953-4fae-b666-a06957d504d6",
   "metadata": {},
   "source": [
    "### Let's consider the breast cancer dataset `breast_cancer_csci4521.csv`. Each row is a sample and column is a feature (or label). Each sample has a patient ID (first column) and label (second column) with values \"M\" for malignant and \"B\" for benign. Write Python code to answer each of the following questions. For any question which asks you to modify the dataset, make sure to use the modified dataset for all subsequent questions."
   ]
  },
  {
   "cell_type": "markdown",
   "id": "3116de6d-ebc6-48b1-8c96-61e5ff3e7e1c",
   "metadata": {},
   "source": [
    "#### 0. **(2 points)** Load the dataset and print the top 5 rows."
   ]
  },
  {
   "cell_type": "markdown",
   "id": "342d0535-dab3-4849-95a5-30cfbc74903a",
   "metadata": {},
   "source": [
    "#### 1. **(3 points)** Count and print the number of samples and features in the dataset."
   ]
  },
  {
   "cell_type": "markdown",
   "id": "85a64a70-ec6a-4eef-b46b-d30d97f60a23",
   "metadata": {},
   "source": [
    "#### 2. **(10 points)** What are the means, standard deviations, minimum and maximum values of each of the features? Note, only print out these values, nothing else (i.e. do not print the 25%, 50%, 75% percentiles)."
   ]
  },
  {
   "cell_type": "markdown",
   "id": "295b7c1d-e766-4fc1-8e27-383c45b400be",
   "metadata": {},
   "source": [
    "#### 3. **(10 points)** Which features have missing values? For each feature, how are the missing values denoted (i.e., what are the values)?"
   ]
  },
  {
   "cell_type": "markdown",
   "id": "339c1157-2213-4a55-8f9e-bd385d228121",
   "metadata": {},
   "source": [
    "#### 4. **(5 points)** Replace all missing values with the median value of each feature and print the top 10 rows of the dataframe before and after the replacement."
   ]
  },
  {
   "cell_type": "markdown",
   "id": "d89dd6c0-f751-4bd9-9f95-595f5e0253ab",
   "metadata": {},
   "source": [
    "#### 5. **(20 points)** Standardize all the features to have 0 mean and 1 standard deviation. Print out the top 10 rows of the dataframe before and after standardization. Remember, column 0 is the patient ID so do not standardize this but make sure it's not dropped. Plot a histogram of values after standardization for feature 10."
   ]
  },
  {
   "cell_type": "markdown",
   "id": "b91ff0f2-ff70-4f60-81b3-78e010c50823",
   "metadata": {},
   "source": [
    "#### 6. **(6 points)** What features have variance $< 0.1$? Remove any such features from the dataset."
   ]
  },
  {
   "cell_type": "markdown",
   "id": "ba8e4766-4a4b-44f4-8d83-a32a82f879c0",
   "metadata": {},
   "source": [
    "#### 7. **(2 points)** Which samples (as indicated by row number) are duplicate samples?\n"
   ]
  },
  {
   "cell_type": "markdown",
   "id": "226fd244-8264-4c83-abc6-876ed4bcbdd3",
   "metadata": {},
   "source": [
    "#### 8. **(17 points)** Use the standard deviation method to remove outliers. Apply the method to each feature individually and choose the data points which are an outlier in any of the features to remove. You can choose the lower and upper thresholds. Explain how you decided on the thresholds and what were the outlier samples removed from the dataset. (Don't forget the labels and patient IDs!)\n"
   ]
  },
  {
   "cell_type": "markdown",
   "id": "0f4ca3d7-e1d2-4b06-be0f-54e3f51de133",
   "metadata": {},
   "source": [
    "#### 9. **(20 points)** Select a subset of the features using the ANOVA test. Plot a histogram of all the ANOVA scores and decide which features to keep. Print which features those are. "
   ]
  },
  {
   "cell_type": "markdown",
   "id": "aaaeb1c3-d8df-4a19-b378-f2ec8d20ab84",
   "metadata": {},
   "source": [
    "#### 10. **(5 points)** After all the above, how many samples and features does the final dataset have?"
   ]
  },
  {
   "cell_type": "markdown",
   "id": "e353c9e6-e532-42c3-9288-3c50ed48a32f",
   "metadata": {},
   "source": [
    "---"
   ]
  }
 ],
 "metadata": {
  "kernelspec": {
   "display_name": "Python 3 (ipykernel)",
   "language": "python",
   "name": "python3"
  },
  "language_info": {
   "codemirror_mode": {
    "name": "ipython",
    "version": 3
   },
   "file_extension": ".py",
   "mimetype": "text/x-python",
   "name": "python",
   "nbconvert_exporter": "python",
   "pygments_lexer": "ipython3",
   "version": "3.12.4"
  }
 },
 "nbformat": 4,
 "nbformat_minor": 5
}
